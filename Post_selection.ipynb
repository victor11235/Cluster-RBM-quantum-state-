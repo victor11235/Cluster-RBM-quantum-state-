{
 "cells": [
  {
   "cell_type": "code",
   "execution_count": 2,
   "id": "c16a6838",
   "metadata": {},
   "outputs": [],
   "source": [
    "import netket as nk\n",
    "import json\n",
    "from qutip import *\n",
    "import numpy as np\n",
    "import time\n",
    "import multiprocessing as mp\n",
    "from collections import OrderedDict\n",
    "from pickle import dump\n",
    "import os\n",
    "import matplotlib.pyplot as plt\n",
    "import scipy\n",
    "from matplotlib import gridspec\n",
    "from functools import reduce\n",
    "plt.style.use('seaborn')\n",
    "from scipy.stats import norm\n",
    "import sys\n",
    "sys.path.append(\"/home/victor1/penalty_method\")\n",
    "import expect_grad_ex \n",
    "import vmc_ex\n",
    "import jax\n",
    "import pickle\n",
    "import copy\n",
    "import optax\n",
    "import penalty_cost as ex"
   ]
  },
  {
   "cell_type": "code",
   "execution_count": 3,
   "id": "0e6581cb",
   "metadata": {},
   "outputs": [],
   "source": [
    "def CSHam(N, B, Ak):\n",
    "    # Make graph with of length N with no periodic boundary conditions\n",
    "    g = nk.graph.Hypercube(length=N, n_dim=1, pbc=False)\n",
    "    # Spin based Hilbert Space\n",
    "    hilbertSpace = nk.hilbert.Spin(s=0.5, N=g.n_nodes)\n",
    "    # Define spin operators with \\hbar set to 1\n",
    "    sz = 0.5 * np.array([[1, 0], [0, -1]])\n",
    "    sx = 0.5 * np.array([[0, 1], [1, 0]])\n",
    "    sy = 0.5 * np.array([[0, -1j], [1j, 0]])\n",
    "    operators = []\n",
    "    sites = []\n",
    "    # Central spin term\n",
    "    operators.append((B * sz).tolist()) #array to list(ordered and changeable)\n",
    "    sites.append([0])\n",
    "    # Interaction term\n",
    "    itOp = np.kron(sz, sz) + np.kron(sx, sx) + np.kron(sy, sy) #kronecker product here\n",
    "    for i in range(N - 1):\n",
    "        operators.append((Ak[i] * itOp).tolist())\n",
    "        sites.append([0, (i+1)])  #pretty convoluted indexing, but ok\n",
    "    # Create hamiltonian\n",
    "    hamiltonian = nk.operator.LocalOperator(hilbertSpace, operators=operators, acting_on=sites, dtype=complex)\n",
    "    #acting_on specifier necessary as this is a central spin model\n",
    "    return hamiltonian, hilbertSpace\n",
    "\n",
    "def exactDiagonalization_full(hamiltonian):\n",
    "    # Changes Hamiltonian to matrix form\n",
    "    haMatrix = hamiltonian.to_dense()\n",
    "    # Gets eigenvalues and vectors\n",
    "    eigenValues, v = np.linalg.eigh(haMatrix)\n",
    "    # Orders from smallest to largest\n",
    "    eigenVectors = [v[:, i] for i in range(len(eigenValues))]\n",
    "    return eigenValues, eigenVectors\n",
    "\n",
    "# Error Calculation (Input: the found state, the state from exact diagonalization, the found energy, the energy from exact diagonalization)\n",
    "def err_sta(state, edState,N):\n",
    "    overlap = np.dot(state.conj().reshape(2**N, 1).T, edState.reshape(2**N, 1))\n",
    "    waveFunctionErr = 1 - (np.linalg.norm(overlap))**2\n",
    "    return waveFunctionErr\n",
    "\n",
    "# NetKet RBM with stochastic reconfiguration descent\n",
    "class RBM:\n",
    "    def __init__(self, N, hamiltonian, hilbertSpace, machine):\n",
    "        # Assign inputsv[:, i]\n",
    "        self.hamiltonian, self.hilbertSpace, self.machine, self.N = hamiltonian, hilbertSpace, machine, N\n",
    "        # Define sampler\n",
    "        self.sampler = nk.sampler.MetropolisLocal(hilbert=hilbertSpace)\n",
    "        # Define optimizer\n",
    "        self.optimizer = nk.optimizer.Sgd(learning_rate=0.005)\n",
    "        # Define Stochastic reconfiguration\n",
    "        self.sr = nk.optimizer.SR(diag_shift=0.01) #diagnol shift, its role as regularizer? seems to take a different form as \n",
    "        #compared to the version I have seen\n",
    "        # Variational state\n",
    "        self.vs = nk.vqs.MCState(self.sampler, self.machine, n_samples=1000, n_discard_per_chain=100) #discarded number of samples \n",
    "        #at the beginning of the MC chain\n",
    "\n",
    "    # Output is the name of the output file in which the descent data is stored\n",
    "    def __call__(self, output, state_list, shift_list):\n",
    "        self.vs.init_parameters(jax.nn.initializers.normal(stddev=0.25))\n",
    "        gs = vmc_ex.VMC_ex(hamiltonian=self.hamiltonian, optimizer=self.optimizer, variational_state=self.vs, preconditioner=self.sr, \n",
    "                   state_list = state_list, shift_list = shift_list)\n",
    "        # Start timing\n",
    "        start = time.time()\n",
    "        # Set the output files as well as number of iterations in the descent\n",
    "        gs.run(out=output, n_iter=300,show_progress = False)\n",
    "        end = time.time()\n",
    "        runTime = end - start\n",
    "        # Import the data from log file\n",
    "        data = json.load(open(output + '.log'))\n",
    "        # Extract the relevant information\n",
    "        # iters = data[\"Energy\"][\"iters\"]\n",
    "        energy_RBM = data[\"Energy\"][\"Mean\"][\"real\"] #get the real part of the mean energy\n",
    "       \n",
    "        # finalEng = energy_RBM[-1]\n",
    "        finalEng = reduce(lambda x, y: x if y is None else y, energy_RBM)\n",
    "        # Get machine statethe state of the machine as an array\n",
    "        state = self.vs.to_array()\n",
    "        # Outputs the final energy, the final state, and the runtime\n",
    "        parameters = self.vs.parameters\n",
    "        # Outputs the final energy, the final state, and the runtime\n",
    "        return finalEng, state, parameters"
   ]
  },
  {
   "cell_type": "code",
   "execution_count": 4,
   "id": "3bca1aa8",
   "metadata": {},
   "outputs": [],
   "source": [
    "N = 6\n",
    "Ak = []\n",
    "\n",
    "alpha = 1   #density of RBM\n",
    "M = alpha*N\n",
    "# Constant A\n",
    "B = 0.95\n",
    "# Variable A\n",
    "A = N/2\n",
    "N0 = N/2\n",
    "for i in range(N-1):\n",
    "    # Constant A\n",
    "    #Ak_i = 1\n",
    "    # Variable A\n",
    "    Ak_i = A / (N0) * np.exp(-i / N0)\n",
    "    Ak.append(Ak_i)\n",
    "    \n",
    "# Define hamiltonian and hilbert space\n",
    "ha, hi = CSHam(N,B,Ak)\n",
    "\n",
    "#Exact Diagonalization\n",
    "#e, v = exactDiagonalization_full(ha)"
   ]
  },
  {
   "cell_type": "code",
   "execution_count": 5,
   "id": "394c120d",
   "metadata": {},
   "outputs": [
    {
     "name": "stderr",
     "output_type": "stream",
     "text": [
      "WARNING:absl:No GPU/TPU found, falling back to CPU. (Set TF_CPP_MIN_LOG_LEVEL=0 and rerun for more info.)\n"
     ]
    }
   ],
   "source": [
    "# we first need to load and construct the previously determined state and construct shift_list and state_list\n",
    "\n",
    "\n",
    "ma = nk.models.RBM(alpha=1, dtype=complex,use_visible_bias=True, use_hidden_bias=True)\n",
    "sampler0 = nk.sampler.MetropolisLocal(hilbert=hi)\n",
    "vs0 = nk.vqs.MCState(sampler0, ma, n_samples=10000, n_discard_per_chain=1000)\n",
    "#vs0.init_parameters(jax.nn.initializers.normal(stddev=0.25))\n",
    "\n",
    "fileName = \"2021_summer_data/2022_winter_data/post_selection_data/parameter_N6i0j38_best.json\"\n",
    "file = open(fileName,'rb')\n",
    "a = pickle.load(file)\n",
    "vs0.parameters = a\n",
    "\n",
    "sampler1 = nk.sampler.MetropolisLocal(hilbert=hi)\n",
    "vs1 = nk.vqs.MCState(sampler1, ma, n_samples=10000, n_discard_per_chain=1000)\n",
    "#vs1.init_parameters(jax.nn.initializers.normal(stddev=0.25))\n",
    "\n",
    "fileName = \"2021_summer_data/2022_winter_data/post_selection_data/parameter_N6i1j41_best.json\"\n",
    "file = open(fileName,'rb')\n",
    "a = pickle.load(file)\n",
    "vs1.parameters = a\n",
    "\n",
    "\n",
    "sampler2 = nk.sampler.MetropolisLocal(hilbert=hi)\n",
    "vs2 = nk.vqs.MCState(sampler2, ma, n_samples=10000, n_discard_per_chain=1000)\n",
    "#vs1.init_parameters(jax.nn.initializers.normal(stddev=0.25))\n",
    "\n",
    "fileName = \"2021_summer_data/2022_winter_data/post_selection_data/parameter_N6i2j22_best.json\"\n",
    "file = open(fileName,'rb')\n",
    "a = pickle.load(file)\n",
    "vs1.parameters = a\n",
    "\n"
   ]
  },
  {
   "cell_type": "markdown",
   "id": "bc006acf",
   "metadata": {},
   "source": [
    "# this is for ground state only\n",
    "ma = nk.models.RBM(alpha=1, dtype=complex,use_visible_bias=True, use_hidden_bias=True)\n",
    "sampler = nk.sampler.MetropolisLocal(hilbert=hi)\n",
    "vs = nk.vqs.MCState(sampler, ma, n_samples=10000, n_discard_per_chain=1000)\n",
    "#vs.init_parameters(jax.nn.initializers.normal(stddev=0.25))\n",
    "\n",
    "engs = []\n",
    "# we first need to loop over the 50 runs, and compare their sampled energies with more (10000 samples) precision\n",
    "for i in range(50):\n",
    "    fileName = \"2021_summer_data/2022_winter_data/parameter_N6i0j\" + str(i) + \".json\"\n",
    "    file = open(fileName,'rb')\n",
    "    a = pickle.load(file)\n",
    "    vs.parameters = a\n",
    "    eng = vs.expect(ha)\n",
    "    engs.append(eng.mean)\n",
    "    print(i)"
   ]
  },
  {
   "cell_type": "code",
   "execution_count": 9,
   "id": "a9fe12bb",
   "metadata": {
    "scrolled": true
   },
   "outputs": [
    {
     "name": "stdout",
     "output_type": "stream",
     "text": [
      "0\n",
      "1\n",
      "2\n",
      "3\n",
      "4\n",
      "5\n",
      "6\n",
      "7\n",
      "8\n",
      "9\n",
      "10\n",
      "11\n",
      "12\n",
      "13\n",
      "14\n",
      "15\n",
      "16\n",
      "17\n",
      "18\n",
      "19\n",
      "20\n",
      "21\n",
      "22\n",
      "23\n",
      "24\n",
      "25\n",
      "26\n",
      "27\n",
      "28\n",
      "29\n",
      "30\n",
      "31\n",
      "32\n",
      "33\n",
      "34\n",
      "35\n",
      "36\n",
      "37\n",
      "38\n",
      "39\n",
      "40\n",
      "41\n",
      "42\n",
      "43\n",
      "44\n",
      "45\n",
      "46\n",
      "47\n",
      "48\n",
      "49\n"
     ]
    }
   ],
   "source": [
    "# this is for excited state state only\n",
    "ma = nk.models.RBM(alpha=1, dtype=complex,use_visible_bias=True, use_hidden_bias=True)\n",
    "sampler = nk.sampler.MetropolisLocal(hilbert=hi)\n",
    "vs = nk.vqs.MCState(sampler, ma, n_samples=10000, n_discard_per_chain=1000)\n",
    "#vs.init_parameters(jax.nn.initializers.normal(stddev=0.25))\n",
    "state_list = [vs0,vs1]\n",
    "shift_list = [0.3, 0.3]\n",
    "engs = []\n",
    "# we first need to loop over the 50 runs, and compare their sampled energies with more (10000 samples) precision\n",
    "for i in range(50):\n",
    "    fileName = \"2021_summer_data/2022_winter_data/parameter_N6i3j\" + str(i) + \".json\"\n",
    "    file = open(fileName,'rb')\n",
    "    a = pickle.load(file)\n",
    "    vs.parameters = a\n",
    "    eng = ex.expect_and_grad_ex(  \n",
    "        vstate=vs,\n",
    "        Ô=ha,\n",
    "        use_covariance=True,\n",
    "        mutable=False,\n",
    "        state_list = state_list,\n",
    "        shift_list = shift_list)\n",
    "    engs.append(eng[0].mean)\n",
    "    print(i)"
   ]
  },
  {
   "cell_type": "code",
   "execution_count": 10,
   "id": "62e29718",
   "metadata": {},
   "outputs": [
    {
     "name": "stdout",
     "output_type": "stream",
     "text": [
      "10\n",
      "-1.2216853558727614\n"
     ]
    }
   ],
   "source": [
    "engs = np.real(engs)\n",
    "print(np.argmin(engs))\n",
    "print(np.min(engs))"
   ]
  },
  {
   "cell_type": "code",
   "execution_count": 29,
   "id": "b29dd393",
   "metadata": {},
   "outputs": [],
   "source": [
    "state_list = [vs0]\n",
    "shift_list = [0.3]\n",
    "c = ex.expect_and_grad_ex(  \n",
    "        vstate=vs0,\n",
    "        Ô=ha,\n",
    "        use_covariance=True,\n",
    "        mutable=False,\n",
    "        state_list = state_list,\n",
    "        shift_list = shift_list)"
   ]
  },
  {
   "cell_type": "code",
   "execution_count": 30,
   "id": "5034b974",
   "metadata": {},
   "outputs": [
    {
     "name": "stdout",
     "output_type": "stream",
     "text": [
      "(-1.1153078220666248-1.6800175909233708e-05j)\n"
     ]
    }
   ],
   "source": [
    "print(c[0].mean)"
   ]
  },
  {
   "cell_type": "code",
   "execution_count": 11,
   "id": "12411414",
   "metadata": {},
   "outputs": [
    {
     "name": "stdout",
     "output_type": "stream",
     "text": [
      "[-1.19703517 -1.22047441 -1.2171219  -1.21839535 -1.22027391 -1.21963791\n",
      " -1.21734104 -1.2141546  -1.21197374 -1.21891799 -1.22168536 -1.21830645\n",
      " -1.21967047 -1.21828533 -1.22153162 -1.2203774  -1.21952157 -1.21975729\n",
      " -1.22021566 -1.22121905 -1.22069189 -1.21517877 -1.21912274 -1.2189631\n",
      " -1.21893152 -1.21979111 -1.21987306 -1.22003725 -1.2202064  -1.21982264\n",
      " -1.21948052 -1.20132773 -1.21800651 -1.2212997  -1.21984279 -1.2203083\n",
      " -1.2196263  -1.21915941 -1.22129264 -1.21914178 -1.22008187 -1.219562\n",
      " -1.21985775 -1.21951321 -1.21943651 -1.21928174 -1.22056946 -1.21988856\n",
      " -1.21915686 -1.21903302]\n"
     ]
    }
   ],
   "source": [
    "print(engs)"
   ]
  },
  {
   "cell_type": "code",
   "execution_count": 37,
   "id": "3df44dba",
   "metadata": {},
   "outputs": [
    {
     "name": "stdout",
     "output_type": "stream",
     "text": [
      "-1.32719+0.00071j ± 0.00030 [σ²=0.00065, R̂=1.0018]\n"
     ]
    }
   ],
   "source": [
    "print(vs1.expect(ha))"
   ]
  },
  {
   "cell_type": "code",
   "execution_count": null,
   "id": "8ff9e1f2",
   "metadata": {},
   "outputs": [],
   "source": []
  }
 ],
 "metadata": {
  "kernelspec": {
   "display_name": "Python 3",
   "language": "python",
   "name": "python3"
  },
  "language_info": {
   "codemirror_mode": {
    "name": "ipython",
    "version": 3
   },
   "file_extension": ".py",
   "mimetype": "text/x-python",
   "name": "python",
   "nbconvert_exporter": "python",
   "pygments_lexer": "ipython3",
   "version": "3.8.2"
  }
 },
 "nbformat": 4,
 "nbformat_minor": 5
}

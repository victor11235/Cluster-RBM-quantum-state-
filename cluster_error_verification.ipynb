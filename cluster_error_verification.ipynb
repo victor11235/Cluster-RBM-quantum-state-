{
 "cells": [
  {
   "cell_type": "code",
   "execution_count": 1,
   "id": "f653c943",
   "metadata": {},
   "outputs": [],
   "source": [
    "import netket as nk\n",
    "import json\n",
    "from qutip import *\n",
    "import numpy as np\n",
    "import time\n",
    "import multiprocessing as mp\n",
    "from collections import OrderedDict\n",
    "from pickle import dump\n",
    "import os\n",
    "import matplotlib.pyplot as plt\n",
    "import scipy\n",
    "from matplotlib import gridspec\n",
    "from functools import reduce\n",
    "plt.style.use('seaborn')\n",
    "from scipy.stats import norm\n",
    "import sys\n",
    "sys.path.append(\"/home/victor1/penalty_method\")\n",
    "import expect_grad_ex\n",
    "import vmc_ex\n",
    "import jax\n",
    "import pickle\n",
    "import copy\n",
    "import optax"
   ]
  },
  {
   "cell_type": "code",
   "execution_count": 2,
   "id": "f5c7ce5b",
   "metadata": {},
   "outputs": [],
   "source": [
    "def CSHam(N, B, Ak):\n",
    "    # Make graph with of length N with no periodic boundary conditions\n",
    "    g = nk.graph.Hypercube(length=N, n_dim=1, pbc=False)\n",
    "    # Spin based Hilbert Space\n",
    "    hilbertSpace = nk.hilbert.Spin(s=0.5, N=g.n_nodes)\n",
    "    # Define spin operators with \\hbar set to 1\n",
    "    sz = 0.5 * np.array([[1, 0], [0, -1]])\n",
    "    sx = 0.5 * np.array([[0, 1], [1, 0]])\n",
    "    sy = 0.5 * np.array([[0, -1j], [1j, 0]])\n",
    "    operators = []\n",
    "    sites = []\n",
    "    # Central spin term\n",
    "    operators.append((B * sz).tolist()) #array to list(ordered and changeable)\n",
    "    sites.append([0])\n",
    "    # Interaction term\n",
    "    itOp = np.kron(sz, sz) + np.kron(sx, sx) + np.kron(sy, sy) #kronecker product here\n",
    "    for i in range(N - 1):\n",
    "        operators.append((Ak[i] * itOp).tolist())\n",
    "        sites.append([0, (i+1)])  #pretty convoluted indexing, but ok\n",
    "    # Create hamiltonian\n",
    "    hamiltonian = nk.operator.LocalOperator(hilbertSpace, operators=operators, acting_on=sites, dtype=complex)\n",
    "    #acting_on specifier necessary as this is a central spin model\n",
    "    return hamiltonian, hilbertSpace\n",
    "\n",
    "def exactDiagonalization_full(hamiltonian):\n",
    "    # Changes Hamiltonian to matrix form\n",
    "    haMatrix = hamiltonian.to_dense()\n",
    "    # Gets eigenvalues and vectors\n",
    "    eigenValues, v = np.linalg.eigh(haMatrix)\n",
    "    # Orders from smallest to largest\n",
    "    eigenVectors = [v[:, i] for i in range(len(eigenValues))]\n",
    "    return eigenValues, eigenVectors\n",
    "\n",
    "# Error Calculation (Input: the found state, the state from exact diagonalization, the found energy, the energy from exact diagonalization)\n",
    "def err_sta(state, edState,N):\n",
    "    overlap = np.dot(state.conj().reshape(2**N, 1).T, edState.reshape(2**N, 1))\n",
    "    waveFunctionErr = 1 - (np.linalg.norm(overlap))**2\n",
    "    return waveFunctionErr\n",
    "\n",
    "# NetKet RBM with stochastic reconfiguration descent\n",
    "class RBM:\n",
    "    def __init__(self, N, hamiltonian, hilbertSpace, machine):\n",
    "        # Assign inputsv[:, i]\n",
    "        self.hamiltonian, self.hilbertSpace, self.machine, self.N = hamiltonian, hilbertSpace, machine, N\n",
    "        # Define sampler\n",
    "        self.sampler = nk.sampler.MetropolisLocal(hilbert=hilbertSpace)\n",
    "        # Define optimizer\n",
    "        self.optimizer = nk.optimizer.Sgd(learning_rate=0.005)\n",
    "        # Define Stochastic reconfiguration\n",
    "        self.sr = nk.optimizer.SR(diag_shift=0.01) #diagnol shift, its role as regularizer? seems to take a different form as \n",
    "        #compared to the version I have seen\n",
    "        # Variational state\n",
    "        self.vs = nk.vqs.MCState(self.sampler, self.machine, n_samples=1000, n_discard_per_chain=100) #discarded number of samples \n",
    "        #at the beginning of the MC chain\n",
    "\n",
    "    # Output is the name of the output file in which the descent data is stored\n",
    "    def __call__(self, output, state_list, shift_list):\n",
    "        self.vs.init_parameters(jax.nn.initializers.normal(stddev=0.25))\n",
    "        gs = vmc_ex.VMC_ex(hamiltonian=self.hamiltonian, optimizer=self.optimizer, variational_state=self.vs, preconditioner=self.sr, \n",
    "                   state_list = state_list, shift_list = shift_list)\n",
    "        # Start timing\n",
    "        start = time.time()\n",
    "        # Set the output files as well as number of iterations in the descent\n",
    "        gs.run(out=output, n_iter=300,show_progress = False)\n",
    "        end = time.time()\n",
    "        runTime = end - start\n",
    "        # Import the data from log file\n",
    "        data = json.load(open(output + '.log'))\n",
    "        # Extract the relevant information\n",
    "        # iters = data[\"Energy\"][\"iters\"]\n",
    "        energy_RBM = data[\"Energy\"][\"Mean\"][\"real\"] #get the real part of the mean energy\n",
    "       \n",
    "        # finalEng = energy_RBM[-1]\n",
    "        finalEng = reduce(lambda x, y: x if y is None else y, energy_RBM)\n",
    "        # Get machine statethe state of the machine as an array\n",
    "        state = self.vs.to_array()\n",
    "        # Outputs the final energy, the final state, and the runtime\n",
    "        parameters = self.vs.parameters\n",
    "        # Outputs the final energy, the final state, and the runtime\n",
    "        return finalEng, state, parameters\n"
   ]
  },
  {
   "cell_type": "code",
   "execution_count": 3,
   "id": "8e96247a",
   "metadata": {},
   "outputs": [],
   "source": [
    "N = 6\n",
    "Ak = []\n",
    "\n",
    "alpha = 1   #density of RBM\n",
    "M = alpha*N\n",
    "# Constant A\n",
    "B = 0.95\n",
    "# Variable A\n",
    "A = N/2\n",
    "N0 = N/2\n",
    "for i in range(N-1):\n",
    "    # Constant A\n",
    "    #Ak_i = 1\n",
    "    # Variable A\n",
    "    Ak_i = A / (N0) * np.exp(-i / N0)\n",
    "    Ak.append(Ak_i)\n",
    "    \n",
    "# Define hamiltonian and hilbert space\n",
    "ha, hi = CSHam(N,B,Ak)\n",
    "\n",
    "#Exact Diagonalization\n",
    "e, v = exactDiagonalization_full(ha)"
   ]
  },
  {
   "cell_type": "code",
   "execution_count": 8,
   "id": "80d6ca2d",
   "metadata": {},
   "outputs": [
    {
     "name": "stderr",
     "output_type": "stream",
     "text": [
      "WARNING:absl:No GPU/TPU found, falling back to CPU. (Set TF_CPP_MIN_LOG_LEVEL=0 and rerun for more info.)\n",
      "/home/victor1/ENV/lib/python3.8/site-packages/netket/vqs/mc/mc_state/state.py:58: UserWarning: n_samples=1000 (1000 per MPI rank) does not divide n_chains=16, increased to 1008 (1008 per MPI rank)\n",
      "  warnings.warn(\n"
     ]
    }
   ],
   "source": [
    "ma = nk.models.RBM(alpha=1, dtype=complex,use_visible_bias=True, use_hidden_bias=True)\n",
    "sampler = nk.sampler.MetropolisLocal(hilbert=hi)\n",
    "vs1 = nk.vqs.MCState(sampler, ma, n_samples=1000, n_discard_per_chain=100)\n",
    "vs1.init_parameters(jax.nn.initializers.normal(stddev=0.25))"
   ]
  },
  {
   "cell_type": "code",
   "execution_count": 9,
   "id": "09a44934",
   "metadata": {},
   "outputs": [],
   "source": [
    "import pickle\n",
    "fileName = \"2021_summer_data/2022_winter_data/post_selection_data/parameter_N6i1j41_best.json\"\n",
    "file = open(fileName,'rb')\n",
    "a = pickle.load(file)\n",
    "vs1.parameters = a"
   ]
  },
  {
   "cell_type": "code",
   "execution_count": 12,
   "id": "093efd6f",
   "metadata": {},
   "outputs": [
    {
     "name": "stdout",
     "output_type": "stream",
     "text": [
      "0.00022542138505921017\n"
     ]
    }
   ],
   "source": [
    "gs0 = vs1.to_array()\n",
    "overlap0 = np.dot(gs0.conj().reshape(2**N, 1).T, v[1].reshape(2**N, 1))\n",
    "print(1-np.linalg.norm(overlap0)**2)"
   ]
  },
  {
   "cell_type": "code",
   "execution_count": 17,
   "id": "c21b7e5a",
   "metadata": {},
   "outputs": [
    {
     "data": {
      "text/plain": [
       "-1.27651-0.00012j ± 0.00069 [σ²=0.00393, R̂=1.0001]"
      ]
     },
     "execution_count": 17,
     "metadata": {},
     "output_type": "execute_result"
    }
   ],
   "source": [
    "vs1.n_samples = 10000\n",
    "vs1.expect(ha)"
   ]
  },
  {
   "cell_type": "code",
   "execution_count": 10,
   "id": "75f75dd4",
   "metadata": {},
   "outputs": [
    {
     "name": "stdout",
     "output_type": "stream",
     "text": [
      "[-1.41524943 -1.32771232 -1.27145158 -1.21988005 -1.19876478 -1.11306153\n",
      " -1.11089347 -1.0858455  -1.07493451 -0.98756256 -0.93938085 -0.9338297\n",
      " -0.91135368 -0.90173021 -0.8935346  -0.8730331  -0.80315108 -0.69343838\n",
      " -0.62406881 -0.53438139 -0.50864167 -0.38721415 -0.36979703 -0.31053015\n",
      " -0.25413804 -0.18236887 -0.17478303 -0.09929506 -0.04515056  0.04131016\n",
      "  0.10087815  0.24035625  0.35185493  0.41431648  0.41522106  0.43187103\n",
      "  0.44636995  0.45165595  0.4549342   0.46446678  0.47988562  0.51981148\n",
      "  0.5259888   0.53022274  0.53638579  0.59887303  0.65252521  0.6527589\n",
      "  0.69325189  0.71139475  0.71240188  0.73158247  0.74761339  0.75153445\n",
      "  0.78431651  0.86470533  0.8726142   0.88383632  0.88996922  0.97406376\n",
      "  0.99132177  1.03767668  1.09885071  1.19035625]\n"
     ]
    }
   ],
   "source": [
    "print(e)"
   ]
  },
  {
   "cell_type": "code",
   "execution_count": 13,
   "id": "1da9fa3a",
   "metadata": {},
   "outputs": [
    {
     "name": "stdout",
     "output_type": "stream",
     "text": [
      "3\n"
     ]
    }
   ],
   "source": [
    "b = [1,2,3]\n",
    "print(len(b))"
   ]
  },
  {
   "cell_type": "code",
   "execution_count": 17,
   "id": "331ba2d2",
   "metadata": {},
   "outputs": [
    {
     "name": "stdout",
     "output_type": "stream",
     "text": [
      "[ 0.00000000e+00+0.j  8.68074001e-18+0.j  6.99963545e-17+0.j\n",
      "  8.51002813e-02+0.j -3.03045015e-17+0.j  1.06772713e-01+0.j\n",
      "  7.20250825e-02+0.j -1.11022302e-16+0.j  5.55111512e-17+0.j\n",
      "  1.45728807e-01+0.j  9.02916327e-02+0.j -2.77555756e-17+0.j\n",
      "  8.20021891e-02+0.j -1.21430643e-17+0.j -1.73472348e-17+0.j\n",
      " -4.33680869e-19+0.j -1.30673467e-16+0.j  2.09694012e-01+0.j\n",
      "  1.22876807e-01+0.j -2.44000645e-17+0.j  1.04944356e-01+0.j\n",
      " -2.00371161e-17+0.j -1.58538582e-17+0.j  2.89581880e-21+0.j\n",
      "  1.05609562e-01+0.j -1.28237254e-17+0.j -1.13215280e-17+0.j\n",
      " -2.43897233e-20+0.j -8.60367791e-18+0.j -2.51747361e-20+0.j\n",
      " -2.73011577e-20+0.j  0.00000000e+00+0.j  3.90806640e-17+0.j\n",
      " -7.43510967e-01+0.j -3.84357186e-01+0.j  7.24072751e-17+0.j\n",
      " -2.77039610e-01+0.j  5.32716949e-17+0.j  3.87480956e-17+0.j\n",
      "  5.99453854e-20+0.j -2.21278660e-01+0.j  2.32066047e-17+0.j\n",
      "  2.07938251e-17+0.j  4.67288877e-20+0.j  1.19013474e-17+0.j\n",
      "  2.20053374e-20+0.j -2.06112242e-20+0.j  0.00000000e+00+0.j\n",
      " -1.80457511e-01+0.j  1.86693758e-17+0.j  1.39966356e-17+0.j\n",
      " -4.17635674e-20+0.j  1.14024458e-17+0.j -2.15057017e-20+0.j\n",
      "  9.46286229e-21+0.j  0.00000000e+00+0.j  6.56713075e-18+0.j\n",
      "  4.15736671e-20+0.j  5.45339730e-20+0.j  0.00000000e+00+0.j\n",
      "  4.80896972e-20+0.j  0.00000000e+00+0.j  0.00000000e+00+0.j\n",
      "  0.00000000e+00+0.j]\n"
     ]
    }
   ],
   "source": [
    "print(v[1])"
   ]
  },
  {
   "cell_type": "code",
   "execution_count": null,
   "id": "649a35c8",
   "metadata": {},
   "outputs": [],
   "source": []
  }
 ],
 "metadata": {
  "kernelspec": {
   "display_name": "Python 3",
   "language": "python",
   "name": "python3"
  },
  "language_info": {
   "codemirror_mode": {
    "name": "ipython",
    "version": 3
   },
   "file_extension": ".py",
   "mimetype": "text/x-python",
   "name": "python",
   "nbconvert_exporter": "python",
   "pygments_lexer": "ipython3",
   "version": "3.8.2"
  }
 },
 "nbformat": 4,
 "nbformat_minor": 5
}

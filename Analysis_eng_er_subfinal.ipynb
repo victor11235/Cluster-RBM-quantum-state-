{
 "cells": [
  {
   "cell_type": "code",
   "execution_count": 1,
   "id": "204e82a8",
   "metadata": {},
   "outputs": [],
   "source": [
    "import netket as nk\n",
    "import json\n",
    "from qutip import *\n",
    "import numpy as np\n",
    "import time\n",
    "import multiprocessing as mp\n",
    "from collections import OrderedDict\n",
    "from pickle import dump\n",
    "import os\n",
    "import matplotlib.pyplot as plt\n",
    "import scipy\n",
    "from matplotlib import gridspec\n",
    "from functools import reduce\n",
    "plt.style.use('seaborn')\n",
    "from scipy.stats import norm"
   ]
  },
  {
   "cell_type": "code",
   "execution_count": 2,
   "id": "be912b06",
   "metadata": {},
   "outputs": [],
   "source": [
    "# Central Spin Hamiltonian and Hilbert space, inputs are Hamiltonian parameters\n",
    "def CSHam(N, B, Ak):\n",
    "    # Make graph with of length N with no periodic boundary conditions\n",
    "    g = nk.graph.Hypercube(length=N, n_dim=1, pbc=False)\n",
    "    # Spin based Hilbert Space\n",
    "    hilbertSpace = nk.hilbert.Spin(s=0.5, N=g.n_nodes)\n",
    "    # Define pauli matrices\n",
    "    pauliz = 0.5 * np.array([[1, 0], [0, -1]])\n",
    "    paulix = 0.5 * np.array([[0, 1], [1, 0]])\n",
    "    pauliy = 0.5 * np.array([[0, -1j], [1j, 0]])\n",
    "    operators = []\n",
    "    sites = []\n",
    "    # Central spin term\n",
    "    operators.append((B * pauliz).tolist())\n",
    "    sites.append([0])\n",
    "    # Interaction term\n",
    "    itOp = np.kron(pauliz, pauliz) + np.kron(paulix, paulix) + np.kron(pauliy, pauliy)\n",
    "    for i in range(N - 1):\n",
    "        operators.append((Ak[i] * itOp).tolist())\n",
    "        sites.append([0, (i + 1)])\n",
    "    # Create hamiltonian\n",
    "    hamiltonian = nk.operator.LocalOperator(hilbertSpace, operators=operators, acting_on=sites, dtype=complex)\n",
    "    return hamiltonian, hilbertSpace\n",
    "\n",
    "\n",
    "def exactDiagonalization(hamiltonian):\n",
    "    # Changes Hamiltonian to matrix form\n",
    "    haMatrix = hamiltonian.to_dense()\n",
    "    # Gets eigenvalues and vectors\n",
    "    eigenValues, v = np.linalg.eigh(haMatrix)\n",
    "    # Orders from smallest to largest\n",
    "    eigenVectors = [v[:, i] for i in range(len(eigenValues))]\n",
    "    return eigenValues, eigenVectors"
   ]
  },
  {
   "cell_type": "code",
   "execution_count": 3,
   "id": "7c2a3d53",
   "metadata": {},
   "outputs": [
    {
     "name": "stdout",
     "output_type": "stream",
     "text": [
      "[0.714655711206686, 0.2706903510436628, 0.19700064430027164, 0.15809192733781985, 0.13310606325777052, 0.11541105590704115, 0.10210433090346482, 0.09167886461488406, 0.0832621624136407, 0.0763091083323153, 0.0704593189318583]\n",
      "[0.714655711206686, 0.18151865199806505, 0.12612412420872188, 0.10174294383259097, 0.08753711190951274, 0.07790872448001962, 0.07074383837386988, 0.06508035676313773, 0.06042036420527919, 0.05647886380102207, 0.05307870195482822]\n"
     ]
    }
   ],
   "source": [
    "gap_N_con = []\n",
    "gap_N_var = []\n",
    "\n",
    "for i in range(11):  #here put N-1 (maximum)\n",
    "    N = i+2\n",
    "    # Hamiltonian Parameters\n",
    "    B = 0.95\n",
    "    alpha = 1\n",
    "    # B = N/2\n",
    "    #A = N/2\n",
    "    #N0 = N / 2\n",
    "    M = alpha * N\n",
    "    # List of Ak\n",
    "    Ak = []\n",
    "    for i in range(N - 1):\n",
    "        #Ak_i = A / (N0) * np.exp(-i / N0)\n",
    "        Ak_i = 1\n",
    "        Ak.append(Ak_i)\n",
    "    # Define hamiltonian and hilbert space\n",
    "    ha, hi = CSHam(N, B, Ak)\n",
    "\n",
    "    # Exact Diagonalization\n",
    "    e, v = exactDiagonalization(ha)\n",
    "    # get the gap\n",
    "    gap = np.abs(e[0]-e[1])\n",
    "    gap_N_con.append(gap)\n",
    "    \n",
    "\n",
    "for i in range(11):  #here put N-1 (maximum)\n",
    "    N = i+2\n",
    "    # Hamiltonian Parameters\n",
    "    B = 0.95\n",
    "    alpha = 1\n",
    "    # B = N/2\n",
    "    A = N/2\n",
    "    N0 = N / 2\n",
    "    M = alpha * N\n",
    "    # List of Ak\n",
    "    Ak = []\n",
    "    for i in range(N - 1):\n",
    "        Ak_i = A / (N0) * np.exp(-i / N0)\n",
    "        #Ak_i = 1\n",
    "        Ak.append(Ak_i)\n",
    "    # Define hamiltonian and hilbert space\n",
    "    ha, hi = CSHam(N, B, Ak)\n",
    "\n",
    "    # Exact Diagonalization\n",
    "    e, v = exactDiagonalization(ha)\n",
    "    # get the gap\n",
    "    gap = np.abs(e[0]-e[1])\n",
    "    gap_N_var.append(gap)\n",
    "    \n",
    "    \n",
    "print(gap_N_con)\n",
    "print(gap_N_var)"
   ]
  },
  {
   "cell_type": "code",
   "execution_count": 3,
   "id": "8acf7eb0",
   "metadata": {},
   "outputs": [],
   "source": [
    "import os\n",
    "os.chdir('/home/victor')\n",
    "os.getcwd()\n",
    "\n",
    "gap_N_con = [0.714655711206686, 0.2706903510436629, 0.19700064430027164, 0.15809192733781918, 0.13310606325776964, 0.11541105590704248, 0.10210433090346216, 0.09167886461488539, 0.08326216241364426, 0.07630910833231175, 0.07045931893186008]\n",
    "gap_N_var = [0.714655711206686, 0.18151865199806494, 0.12612412420872188, 0.1017429438325903, 0.0875371119095103, 0.07790872448001829, 0.07074383837386922, 0.06508035676313861, 0.0604203642052763, 0.05647886380102274, 0.053078701954828666]"
   ]
  },
  {
   "cell_type": "code",
   "execution_count": 51,
   "id": "b4157b6a",
   "metadata": {},
   "outputs": [
    {
     "name": "stdout",
     "output_type": "stream",
     "text": [
      "[49, 50, 50, 50, 50, 50, 50, 49, 48, 46, 43]\n"
     ]
    }
   ],
   "source": [
    "#take half of the energy gap\n",
    "#half_gap_con = []\n",
    "half_gap_var = []\n",
    "\n",
    "#for i in gap_N_con:\n",
    "#    half_gap_con.append(i/2)\n",
    "    \n",
    "\n",
    "for i in gap_N_var:\n",
    "    half_gap_var.append(i/2)\n",
    "    \n",
    "\n",
    "#define a function that counts the number of runs with small enough energy errors\n",
    "def count(eng_er_list, half_gap):\n",
    "    count = 0\n",
    "    for i in eng_er_list:\n",
    "        if i <= half_gap:\n",
    "            count += 1\n",
    "    return count\n",
    "\n",
    "\n",
    "#load energy error data\n",
    "'''\n",
    "eng_con = []\n",
    "eng_count_con = []\n",
    "for i in range(2,13,1):\n",
    "    with open('2021_summer_data/2022_winter_data/sum_GS_hist'+str(i)+'M'+str(i)+'.json') as f:\n",
    "        for line in f:\n",
    "            eng_con.append(json.loads(line))\n",
    "    eng_count_con_temp = count(eng_con[3*(i-2)], half_gap_con[i-2])\n",
    "    eng_count_con.append(eng_count_con_temp)\n",
    "print(eng_count_con)\n",
    "'''\n",
    "eng_var = []\n",
    "eng_err = []\n",
    "state_err = []\n",
    "eng_count_var = []\n",
    "for i in range(2,13,1):\n",
    "    with open('2021_summer_data/2022_winter_data/sum_GS_hist'+str(i)+'M'+str(i)+'.json') as f:\n",
    "        for line in f:\n",
    "            eng_var.append(json.loads(line))\n",
    "    eng_err.append(eng_var[3*(i-2)])\n",
    "    state_err.append(eng_var[3*(i-2)+1])\n",
    "    eng_count_var_temp = count(eng_var[3*(i-2)], half_gap_var[i-2])\n",
    "    eng_count_var.append(eng_count_var_temp)\n",
    "print(eng_count_var)"
   ]
  },
  {
   "cell_type": "code",
   "execution_count": 6,
   "id": "9f273b4a",
   "metadata": {},
   "outputs": [
    {
     "data": {
      "image/png": "[encoded data removed]",
      "text/plain": [
       "<Figure size 576x396 with 1 Axes>"
      ]
     },
     "metadata": {},
     "output_type": "display_data"
    }
   ],
   "source": [
    "N = [2,3,4,5,6,7,8,9,10,11,12]\n",
    "#plot the count\n",
    "#plt.plot(N,eng_count_con,'g>',markersize=12,label='Constant A')\n",
    "plt.plot(N,eng_count_var,'b^',markersize=12,label='Varying A')\n",
    "plt.ylabel('# of runs with energy error smaller than half of the energy gap')\n",
    "plt.xlabel('N')\n",
    "plt.legend()\n",
    "plt.show()"
   ]
  },
  {
   "cell_type": "code",
   "execution_count": 40,
   "id": "8db9236e",
   "metadata": {},
   "outputs": [
    {
     "name": "stdout",
     "output_type": "stream",
     "text": [
      "(11, 50)\n",
      "[0.357327855603343, 0.09075932599903253, 0.06306206210436094, 0.050871471916295485, 0.04376855595475637, 0.03895436224000981, 0.03537191918693494, 0.03254017838156886, 0.030210182102639593, 0.028239431900511036, 0.02653935097741411]\n"
     ]
    }
   ],
   "source": [
    "eng_err = np.array(eng_err)\n",
    "print(eng_err.shape)\n",
    "print(half_gap_var)"
   ]
  },
  {
   "cell_type": "code",
   "execution_count": 50,
   "id": "1fe964ec",
   "metadata": {},
   "outputs": [
    {
     "data": {
      "image/png": "[encoded data removed]",
      "text/plain": [
       "<Figure size 576x360 with 1 Axes>"
      ]
     },
     "metadata": {},
     "output_type": "display_data"
    }
   ],
   "source": [
    "hist,bin_edges = np.histogram(eng_err[6])\n",
    "\n",
    "plt.figure(figsize=[8,5])\n",
    "\n",
    "plt.bar(bin_edges[:-1], hist, width = 0.002, color='r',alpha=0.8)\n",
    "plt.xlim(min(bin_edges), max(bin_edges))\n",
    "plt.grid(axis='y', alpha=0.85)\n",
    "plt.xlabel('Energy Error',fontsize=12)\n",
    "plt.ylabel('Count',fontsize=12)\n",
    "plt.xticks(fontsize=12)\n",
    "plt.yticks(fontsize=12)\n",
    "plt.vlines(half_gap_var[6],0,22)\n",
    "#plt.ylabel('Frequency',fontsize=12)\n",
    "#plt.title('Distribution of '+str(name),fontsize=12)\n",
    "plt.show()"
   ]
  },
  {
   "cell_type": "code",
   "execution_count": 52,
   "id": "c8eb8151",
   "metadata": {},
   "outputs": [],
   "source": [
    "#state vector error\n",
    "state_err = np.array(state_err)"
   ]
  },
  {
   "cell_type": "code",
   "execution_count": 66,
   "id": "421d2a3d",
   "metadata": {},
   "outputs": [
    {
     "data": {
      "image/png": "[encoded data removed]",
      "text/plain": [
       "<Figure size 576x360 with 1 Axes>"
      ]
     },
     "metadata": {},
     "output_type": "display_data"
    }
   ],
   "source": [
    "hist,bin_edges = np.histogram(state_err[5])\n",
    "\n",
    "plt.figure(figsize=[8,5])\n",
    "\n",
    "plt.bar(bin_edges[:-1], hist, width = 0.002, color='r',alpha=0.8)\n",
    "plt.xlim(min(bin_edges), max(bin_edges))\n",
    "plt.grid(axis='y', alpha=0.85)\n",
    "plt.xlabel('State Error',fontsize=12)\n",
    "plt.ylabel('Count',fontsize=12)\n",
    "plt.xticks(fontsize=12)\n",
    "plt.yticks(fontsize=12)\n",
    "#plt.vlines(half_gap_var[6],0,22)\n",
    "#plt.ylabel('Frequency',fontsize=12)\n",
    "#plt.title('Distribution of '+str(name),fontsize=12)\n",
    "plt.show()"
   ]
  },
  {
   "cell_type": "code",
   "execution_count": null,
   "id": "8841ed19",
   "metadata": {},
   "outputs": [],
   "source": []
  }
 ],
 "metadata": {
  "kernelspec": {
   "display_name": "Python 3",
   "language": "python",
   "name": "python3"
  },
  "language_info": {
   "codemirror_mode": {
    "name": "ipython",
    "version": 3
   },
   "file_extension": ".py",
   "mimetype": "text/x-python",
   "name": "python",
   "nbconvert_exporter": "python",
   "pygments_lexer": "ipython3",
   "version": "3.8.2"
  }
 },
 "nbformat": 4,
 "nbformat_minor": 5
}

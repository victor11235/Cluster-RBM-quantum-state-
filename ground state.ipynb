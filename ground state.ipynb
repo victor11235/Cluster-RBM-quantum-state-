{
 "cells": [
  {
   "cell_type": "code",
   "execution_count": 1,
   "id": "d4adee6a",
   "metadata": {},
   "outputs": [],
   "source": [
    "import netket as nk\n",
    "import json\n",
    "from qutip import *\n",
    "import numpy as np\n",
    "import time\n",
    "import multiprocessing as mp\n",
    "from collections import OrderedDict\n",
    "from pickle import dump\n",
    "import os\n",
    "import matplotlib.pyplot as plt\n",
    "import scipy\n",
    "from matplotlib import gridspec\n",
    "from functools import reduce\n",
    "plt.style.use('seaborn')\n",
    "from scipy.stats import norm"
   ]
  },
  {
   "cell_type": "code",
   "execution_count": 2,
   "id": "f8ac0b40",
   "metadata": {},
   "outputs": [],
   "source": [
    "def CSHam(N, B, Ak):\n",
    "    # Make graph with of length N with no periodic boundary conditions\n",
    "    g = nk.graph.Hypercube(length=N, n_dim=1, pbc=False)\n",
    "    # Spin based Hilbert Space\n",
    "    hilbertSpace = nk.hilbert.Spin(s=0.5, N=g.n_nodes)\n",
    "    # Define spin operators with \\hbar set to 1\n",
    "    sz = 0.5 * np.array([[1, 0], [0, -1]])\n",
    "    sx = 0.5 * np.array([[0, 1], [1, 0]])\n",
    "    sy = 0.5 * np.array([[0, -1j], [1j, 0]])\n",
    "    operators = []\n",
    "    sites = []\n",
    "    # Central spin term\n",
    "    operators.append((B * sz).tolist()) #array to list(ordered and changeable)\n",
    "    sites.append([0])\n",
    "    # Interaction term\n",
    "    itOp = np.kron(sz, sz) + np.kron(sx, sx) + np.kron(sy, sy) #kronecker product here\n",
    "    for i in range(N - 1):\n",
    "        operators.append((Ak[i] * itOp).tolist())\n",
    "        sites.append([0, (i+1)])  #pretty convoluted indexing, but ok\n",
    "    # Create hamiltonian\n",
    "    hamiltonian = nk.operator.LocalOperator(hilbertSpace, operators=operators, acting_on=sites, dtype=complex)\n",
    "    #acting_on specifier necessary as this is a central spin model\n",
    "    return hamiltonian, hilbertSpace"
   ]
  },
  {
   "cell_type": "code",
   "execution_count": 3,
   "id": "12a0b126",
   "metadata": {},
   "outputs": [],
   "source": [
    "def exactDiagonalization(hamiltonian):\n",
    "    # Changes Hamiltonian to matrix form, where hamiltonian of interest is sparse in matrix form\n",
    "    #haMatrix = hamiltonian.to_sparse()\n",
    "    # Gets eigenvalues and vectors, where the built-in function uses \n",
    "    eigenValues, v = nk.exact.lanczos_ed(hamiltonian, compute_eigenvectors=True)\n",
    "\n",
    "    # Orders from smallest to largest\n",
    "    eigenVectors = [v[:, i] for i in range(len(eigenValues))]\n",
    "    return eigenValues, eigenVectors\n"
   ]
  },
  {
   "cell_type": "code",
   "execution_count": 4,
   "id": "c516acbd",
   "metadata": {},
   "outputs": [],
   "source": [
    "# NetKet RBM with stochastic reconfiguration descent\n",
    "class RBM:\n",
    "    def __init__(self, N, hamiltonian, hilbertSpace, machine):\n",
    "        # Assign inputsv[:, i]\n",
    "        self.hamiltonian, self.hilbertSpace, self.machine, self.N = hamiltonian, hilbertSpace, machine, N\n",
    "        # Define sampler\n",
    "        self.sampler = nk.sampler.MetropolisLocal(hilbert=hilbertSpace)\n",
    "        # Define optimizer\n",
    "        self.optimizer = nk.optimizer.Sgd(learning_rate=0.05)\n",
    "        # Define Stochastic reconfiguration\n",
    "        self.sr = nk.optimizer.SR(diag_shift=0.5) #diagnol shift, its role as regularizer? seems to take a different form as \n",
    "        #compared to the version I have seen\n",
    "        # Variational state\n",
    "        self.vs = nk.variational.MCState(self.sampler, self.machine, n_samples=1000, n_discard=100) #discarded number of samples \n",
    "        #at the beginning of the MC chain\n",
    "\n",
    "    # Output is the name of the output file in which the descent data is stored\n",
    "    def __call__(self, output):\n",
    "        self.vs.init_parameters(nk.nn.initializers.normal(stddev=0.25))\n",
    "        gs = nk.VMC(hamiltonian=self.hamiltonian, optimizer=self.optimizer, variational_state=self.vs, sr=self.sr)\n",
    "        # Start timing\n",
    "        start = time.time()\n",
    "        # Set the output files as well as number of iterations in the descent\n",
    "        gs.run(out=output, n_iter=1000, show_progress = False)\n",
    "        end = time.time()\n",
    "        runTime = end - start\n",
    "        # Import the data from log file\n",
    "        data = json.load(open(output + '.log'))\n",
    "        # Extract the relevant information\n",
    "        # iters = data[\"Energy\"][\"iters\"]\n",
    "        energy_RBM = data[\"Energy\"][\"Mean\"][\"real\"] #get the real part of the mean energy\n",
    "       \n",
    "        # finalEng = energy_RBM[-1]\n",
    "        finalEng = reduce(lambda x, y: x if y is None else y, energy_RBM)\n",
    "        # Get machine statethe state of the machine as an array\n",
    "        state = self.vs.to_array()\n",
    "        # Outputs the final energy, the final state, and the runtime\n",
    "        return finalEng, state, runTime"
   ]
  },
  {
   "cell_type": "code",
   "execution_count": 5,
   "id": "3f18f593",
   "metadata": {},
   "outputs": [],
   "source": [
    "# Error Calculation (Input: the found state, the state from exact diagonalization, the found energy, the energy from exact diagonalization)\n",
    "def err(state, edState, eng, edEng,N):\n",
    "    engErr = np.abs(eng - edEng)\n",
    "    overlap = np.dot(state.conj().reshape(2**N, 1).T, edState.reshape(2**N, 1))\n",
    "    waveFunctionErr = 1 - (np.linalg.norm(overlap))**2\n",
    "    return engErr, waveFunctionErr\n",
    "\n",
    "\n",
    "# Combines all steps into a function to run on the cluster\n",
    "def runDescentCS(N,B,Ak,alpha):\n",
    "    # Define hamiltonian and hibert space (need to do this here cause can't use netket objects as input to use multiprocessing functions)\n",
    "    ha, hi = CSHam(N,B,Ak)\n",
    "    # RBM Spin Machine\n",
    "    ma = nk.models.RBM(alpha=1, dtype=complex,use_visible_bias=True, use_hidden_bias=True)\n",
    "    # Initialize RBM\n",
    "    rbm = RBM(N, ha, hi, ma) #an instance of class RBM\n",
    "    # Run RBM\n",
    "    eng, state, runTime = rbm(\"2021_summer_data/test_data/Logs\"+str(N)) #where _call_ will be invoked\n",
    "    return eng, state, runTime"
   ]
  },
  {
   "cell_type": "code",
   "execution_count": null,
   "id": "b829dce4",
   "metadata": {},
   "outputs": [
    {
     "name": "stderr",
     "output_type": "stream",
     "text": [
      "WARNING:absl:No GPU/TPU found, falling back to CPU. (Set TF_CPP_MIN_LOG_LEVEL=0 and rerun for more info.)\n",
      "/home/victor1/ENV/lib/python3.8/site-packages/netket/driver/vmc.py:82: FutureWarning: The `sr` keyword argument is deprecated in favour of `preconditioner`.Please update your code to `VMC(.., precondioner=your_sr)`\n",
      "  warn_deprecation(\n",
      "100%|██████████| 1000/1000 [00:05<00:00, 167.14it/s, Energy=-0.93965594+0.00000023j ± 0.00000011 [σ²=0.00000000, R̂=1.4086]]\n",
      "/home/victor1/ENV/lib/python3.8/site-packages/netket/driver/vmc.py:82: FutureWarning: The `sr` keyword argument is deprecated in favour of `preconditioner`.Please update your code to `VMC(.., precondioner=your_sr)`\n",
      "  warn_deprecation(\n",
      "  2%|▏         | 16/1000 [00:00<00:06, 150.30it/s, Energy=-0.006-0.001j ± 0.015 [σ²=0.215, R̂=1.0010]]"
     ]
    },
    {
     "name": "stdout",
     "output_type": "stream",
     "text": [
      "Eng error  [2.2574238423000992e-07]\n",
      "State error  [3.290825231094807e-05]\n"
     ]
    },
    {
     "name": "stderr",
     "output_type": "stream",
     "text": [
      "100%|██████████| 1000/1000 [00:05<00:00, 169.88it/s, Energy=-0.9372-0.0000j ± 0.0018 [σ²=0.0033, R̂=0.9987]]           \n",
      "  2%|▏         | 16/1000 [00:00<00:06, 152.80it/s, Energy=0.201+0.004j ± 0.016 [σ²=0.244, R̂=1.0024]]"
     ]
    },
    {
     "name": "stdout",
     "output_type": "stream",
     "text": [
      "Eng error  [2.2574238423000992e-07, 0.0024657058264668796]\n",
      "State error  [3.290825231094807e-05, 0.0004926628645821607]\n"
     ]
    },
    {
     "name": "stderr",
     "output_type": "stream",
     "text": [
      "100%|██████████| 1000/1000 [00:05<00:00, 170.22it/s, Energy=-0.9380-0.0000j ± 0.0017 [σ²=0.0027, R̂=0.9987]]           \n"
     ]
    },
    {
     "name": "stdout",
     "output_type": "stream",
     "text": [
      "Eng error  [2.2574238423000992e-07, 0.0024657058264668796, 0.0017009161842735931]\n",
      "State error  [3.290825231094807e-05, 0.0004926628645821607, 0.0004778579300761532]\n",
      "SAVED\n"
     ]
    },
    {
     "name": "stderr",
     "output_type": "stream",
     "text": [
      "100%|██████████| 1000/1000 [00:10<00:00, 97.00it/s, Energy=-1.26062+0.00020j ± 0.00091 [σ²=0.00083, R̂=0.9999]]    \n",
      "  1%|          | 10/1000 [00:00<00:10, 91.38it/s, Energy=0.456-0.006j ± 0.016 [σ²=0.260, R̂=1.0096]]"
     ]
    },
    {
     "name": "stdout",
     "output_type": "stream",
     "text": [
      "Eng error  [0.0021149768535557723]\n",
      "State error  [0.002709792911882891]\n"
     ]
    },
    {
     "name": "stderr",
     "output_type": "stream",
     "text": [
      "100%|██████████| 1000/1000 [00:11<00:00, 90.81it/s, Energy=-1.2600-0.0002j ± 0.0013 [σ²=0.0018, R̂=1.0029]]            \n",
      "  1%|          | 9/1000 [00:00<00:12, 79.29it/s, Energy=0.408-0.003j ± 0.015 [σ²=0.229, R̂=0.9970]]"
     ]
    },
    {
     "name": "stdout",
     "output_type": "stream",
     "text": [
      "Eng error  [0.0021149768535557723, 0.002720522629364952]\n",
      "State error  [0.002709792911882891, 0.004080615267236909]\n"
     ]
    },
    {
     "name": "stderr",
     "output_type": "stream",
     "text": [
      "100%|██████████| 1000/1000 [00:11<00:00, 88.24it/s, Energy=-1.26093-0.00005j ± 0.00068 [σ²=0.00047, R̂=1.0060]]\n"
     ]
    },
    {
     "name": "stdout",
     "output_type": "stream",
     "text": [
      "Eng error  [0.0021149768535557723, 0.002720522629364952, 0.001799620984261674]\n",
      "State error  [0.002709792911882891, 0.004080615267236909, 0.006862977558107053]\n",
      "SAVED\n"
     ]
    },
    {
     "name": "stderr",
     "output_type": "stream",
     "text": [
      "100%|██████████| 1000/1000 [00:22<00:00, 44.89it/s, Energy=-1.54968-0.00013j ± 0.00069 [σ²=0.00048, R̂=1.0025]]\n",
      "  1%|          | 6/1000 [00:00<00:20, 47.53it/s, Energy=0.231+0.013j ± 0.033 [σ²=1.094, R̂=0.9997]]"
     ]
    },
    {
     "name": "stdout",
     "output_type": "stream",
     "text": [
      "Eng error  [0.004396446889313177]\n",
      "State error  [0.022702040449185]\n"
     ]
    },
    {
     "name": "stderr",
     "output_type": "stream",
     "text": [
      "100%|██████████| 1000/1000 [00:21<00:00, 46.74it/s, Energy=-1.5544-0.0009j ± 0.0013 [σ²=0.0017, R̂=1.0050]]           \n",
      "  1%|          | 7/1000 [00:00<00:17, 58.11it/s, Energy=0.566-0.020j ± 0.022 [σ²=0.496, R̂=1.0086]]"
     ]
    },
    {
     "name": "stdout",
     "output_type": "stream",
     "text": [
      "Eng error  [0.004396446889313177, 0.000321575864634438]\n",
      "State error  [0.022702040449185, 0.0032879285295623895]\n"
     ]
    },
    {
     "name": "stderr",
     "output_type": "stream",
     "text": [
      "100%|██████████| 1000/1000 [00:23<00:00, 43.40it/s, Energy=-1.55198-0.00015j ± 0.00050 [σ²=0.00025, R̂=0.9986]]\n"
     ]
    },
    {
     "name": "stdout",
     "output_type": "stream",
     "text": [
      "Eng error  [0.004396446889313177, 0.000321575864634438, 0.002099246069860561]\n",
      "State error  [0.022702040449185, 0.0032879285295623895, 0.013490344254112885]\n",
      "SAVED\n"
     ]
    },
    {
     "name": "stderr",
     "output_type": "stream",
     "text": [
      "100%|██████████| 1000/1000 [00:33<00:00, 30.00it/s, Energy=-1.82967+0.00000j ± 0.00090 [σ²=0.00082, R̂=1.0018]]\n",
      "  0%|          | 0/1000 [00:00<?, ?it/s, Energy=0.083+0.044j ± 0.033 [σ²=1.100, R̂=1.0027]]"
     ]
    },
    {
     "name": "stdout",
     "output_type": "stream",
     "text": [
      "Eng error  [0.0016678744266216405]\n",
      "State error  [0.013024372709418808]\n"
     ]
    },
    {
     "name": "stderr",
     "output_type": "stream",
     "text": [
      "100%|██████████| 1000/1000 [00:33<00:00, 29.51it/s, Energy=-1.8276+0.0007j ± 0.0011 [σ²=0.0011, R̂=1.0013]]   \n",
      "  0%|          | 0/1000 [00:00<?, ?it/s, Energy=0.183+0.026j ± 0.035 [σ²=1.257, R̂=1.0016]]"
     ]
    },
    {
     "name": "stdout",
     "output_type": "stream",
     "text": [
      "Eng error  [0.0016678744266216405, 0.003690902345013569]\n",
      "State error  [0.013024372709418808, 0.03158592475812738]\n"
     ]
    },
    {
     "name": "stderr",
     "output_type": "stream",
     "text": [
      "100%|██████████| 1000/1000 [00:33<00:00, 29.86it/s, Energy=-1.8276-0.0001j ± 0.0011 [σ²=0.0012, R̂=0.9993]]   \n"
     ]
    },
    {
     "name": "stdout",
     "output_type": "stream",
     "text": [
      "Eng error  [0.0016678744266216405, 0.003690902345013569, 0.003688760622429177]\n",
      "State error  [0.013024372709418808, 0.03158592475812738, 0.018901426725437265]\n",
      "SAVED\n"
     ]
    },
    {
     "name": "stderr",
     "output_type": "stream",
     "text": [
      "100%|██████████| 1000/1000 [00:32<00:00, 30.51it/s, Energy=-2.0981-0.0007j ± 0.0011 [σ²=0.0012, R̂=1.0030]]   \n",
      "  0%|          | 0/1000 [00:00<?, ?it/s, Energy=0.486-0.010j ± 0.034 [σ²=1.146, R̂=1.0037]]"
     ]
    },
    {
     "name": "stdout",
     "output_type": "stream",
     "text": [
      "Eng error  [0.002758060949077379]\n",
      "State error  [0.017847393916515242]\n"
     ]
    },
    {
     "name": "stderr",
     "output_type": "stream",
     "text": [
      "100%|██████████| 1000/1000 [00:34<00:00, 29.09it/s, Energy=-2.10015+0.00003j ± 0.00021 [σ²=0.00004, R̂=1.0101]]\n",
      "  0%|          | 0/1000 [00:00<?, ?it/s, Energy=0.920+0.001j ± 0.022 [σ²=0.504, R̂=0.9994]]"
     ]
    },
    {
     "name": "stdout",
     "output_type": "stream",
     "text": [
      "Eng error  [0.002758060949077379, 0.0006936913290771507]\n",
      "State error  [0.017847393916515242, 0.012735398254956731]\n"
     ]
    },
    {
     "name": "stderr",
     "output_type": "stream",
     "text": [
      "100%|██████████| 1000/1000 [00:34<00:00, 29.11it/s, Energy=-2.0921-0.0005j ± 0.0041 [σ²=0.0169, R̂=0.9991]]   \n"
     ]
    },
    {
     "name": "stdout",
     "output_type": "stream",
     "text": [
      "Eng error  [0.002758060949077379, 0.0006936913290771507, 0.008762334318614506]\n",
      "State error  [0.017847393916515242, 0.012735398254956731, 0.029429514627153597]\n",
      "SAVED\n"
     ]
    },
    {
     "name": "stderr",
     "output_type": "stream",
     "text": [
      "100%|██████████| 1000/1000 [00:47<00:00, 20.89it/s, Energy=-2.36256+0.00065j ± 0.00078 [σ²=0.00061, R̂=1.0064]]\n",
      "  0%|          | 0/1000 [00:00<?, ?it/s, Energy=0.524-0.013j ± 0.031 [σ²=0.997, R̂=1.0052]]"
     ]
    },
    {
     "name": "stdout",
     "output_type": "stream",
     "text": [
      "Eng error  [0.003009901863895603]\n",
      "State error  [0.023575659467085175]\n"
     ]
    },
    {
     "name": "stderr",
     "output_type": "stream",
     "text": [
      "100%|██████████| 1000/1000 [00:52<00:00, 19.22it/s, Energy=-2.3540-0.0000j ± 0.0046 [σ²=0.0210, R̂=1.0001]]   \n",
      "  0%|          | 0/1000 [00:00<?, ?it/s, Energy=0.612-0.007j ± 0.037 [σ²=1.402, R̂=1.0010]]"
     ]
    },
    {
     "name": "stdout",
     "output_type": "stream",
     "text": [
      "Eng error  [0.003009901863895603, 0.011551868215257333]\n",
      "State error  [0.023575659467085175, 0.05090707623411683]\n"
     ]
    },
    {
     "name": "stderr",
     "output_type": "stream",
     "text": [
      "100%|██████████| 1000/1000 [00:48<00:00, 20.77it/s, Energy=-2.3628-0.0007j ± 0.0012 [σ²=0.0014, R̂=1.0025]]   \n"
     ]
    },
    {
     "name": "stdout",
     "output_type": "stream",
     "text": [
      "Eng error  [0.003009901863895603, 0.011551868215257333, 0.002794436888394536]\n",
      "State error  [0.023575659467085175, 0.05090707623411683, 0.017558304979446437]\n",
      "SAVED\n"
     ]
    },
    {
     "name": "stderr",
     "output_type": "stream",
     "text": [
      "100%|██████████| 1000/1000 [01:01<00:00, 16.18it/s, Energy=-2.62428-0.00019j ± 0.00097 [σ²=0.00095, R̂=1.0029]]\n",
      "  0%|          | 0/1000 [00:00<?, ?it/s, Energy=0.809+0.029j ± 0.028 [σ²=0.778, R̂=1.0001]]"
     ]
    },
    {
     "name": "stdout",
     "output_type": "stream",
     "text": [
      "Eng error  [0.0028277323556933354]\n",
      "State error  [0.027308725169626458]\n"
     ]
    },
    {
     "name": "stderr",
     "output_type": "stream",
     "text": [
      "100%|██████████| 1000/1000 [01:00<00:00, 16.55it/s, Energy=-2.62626+0.00069j ± 0.00096 [σ²=0.00093, R̂=1.0018]]\n",
      "  0%|          | 0/1000 [00:00<?, ?it/s, Energy=1.100-0.022j ± 0.030 [σ²=0.921, R̂=0.9995]]"
     ]
    },
    {
     "name": "stdout",
     "output_type": "stream",
     "text": [
      "Eng error  [0.0028277323556933354, 0.0008425361838844125]\n",
      "State error  [0.027308725169626458, 0.013296421786880397]\n"
     ]
    },
    {
     "name": "stderr",
     "output_type": "stream",
     "text": [
      "100%|██████████| 1000/1000 [01:01<00:00, 16.17it/s, Energy=-2.6180-0.0000j ± 0.0049 [σ²=0.0240, R̂=1.0012]]   \n"
     ]
    },
    {
     "name": "stdout",
     "output_type": "stream",
     "text": [
      "Eng error  [0.0028277323556933354, 0.0008425361838844125, 0.009129727737678284]\n",
      "State error  [0.027308725169626458, 0.013296421786880397, 0.029495959498399893]\n",
      "SAVED\n"
     ]
    },
    {
     "name": "stderr",
     "output_type": "stream",
     "text": [
      "100%|██████████| 1000/1000 [01:12<00:00, 13.80it/s, Energy=-2.8832-0.0013j ± 0.0015 [σ²=0.0022, R̂=1.0027]]   \n",
      "  0%|          | 0/1000 [00:00<?, ?it/s, Energy=0.944+0.042j ± 0.029 [σ²=0.861, R̂=1.0040]]"
     ]
    },
    {
     "name": "stdout",
     "output_type": "stream",
     "text": [
      "Eng error  [0.0032246395011612528]\n",
      "State error  [0.012783385517878387]\n"
     ]
    },
    {
     "name": "stderr",
     "output_type": "stream",
     "text": [
      "100%|██████████| 1000/1000 [01:12<00:00, 13.76it/s, Energy=-2.88524-0.00000j ± 0.00092 [σ²=0.00085, R̂=1.0035]]\n",
      "  0%|          | 0/1000 [00:00<?, ?it/s, Energy=0.621-0.003j ± 0.031 [σ²=0.980, R̂=1.0003]]"
     ]
    },
    {
     "name": "stdout",
     "output_type": "stream",
     "text": [
      "Eng error  [0.0032246395011612528, 0.001167467094726149]\n",
      "State error  [0.012783385517878387, 0.020611256039705927]\n"
     ]
    },
    {
     "name": "stderr",
     "output_type": "stream",
     "text": [
      "100%|██████████| 1000/1000 [01:16<00:00, 13.11it/s, Energy=-2.8679+0.0004j ± 0.0076 [σ²=0.0578, R̂=0.9991]]   \n"
     ]
    },
    {
     "name": "stdout",
     "output_type": "stream",
     "text": [
      "Eng error  [0.0032246395011612528, 0.001167467094726149, 0.018510690962656007]\n",
      "State error  [0.012783385517878387, 0.020611256039705927, 0.08814759798566751]\n",
      "SAVED\n"
     ]
    },
    {
     "name": "stderr",
     "output_type": "stream",
     "text": [
      "100%|██████████| 1000/1000 [01:31<00:00, 10.97it/s, Energy=-2.6721-0.0003j ± 0.0011 [σ²=0.0013, R̂=0.9992]]   \n",
      "  0%|          | 0/1000 [00:00<?, ?it/s, Energy=0.187+0.013j ± 0.041 [σ²=1.723, R̂=1.0060]]"
     ]
    },
    {
     "name": "stdout",
     "output_type": "stream",
     "text": [
      "Eng error  [0.47193211606434415]\n",
      "State error  [0.9999910440717935]\n"
     ]
    },
    {
     "name": "stderr",
     "output_type": "stream",
     "text": [
      "100%|██████████| 1000/1000 [01:34<00:00, 10.61it/s, Energy=-3.1331-0.0000j ± 0.0060 [σ²=0.0360, R̂=1.0042]]   \n",
      "  0%|          | 0/1000 [00:00<?, ?it/s, Energy=0.751-0.014j ± 0.037 [σ²=1.385, R̂=0.9998]]"
     ]
    },
    {
     "name": "stdout",
     "output_type": "stream",
     "text": [
      "Eng error  [0.47193211606434415, 0.010980383720283982]\n",
      "State error  [0.9999910440717935, 0.051507275602387104]\n"
     ]
    },
    {
     "name": "stderr",
     "output_type": "stream",
     "text": [
      "100%|██████████| 1000/1000 [01:36<00:00, 10.36it/s, Energy=-3.1241-0.0006j ± 0.0060 [σ²=0.0368, R̂=1.0013]]\n"
     ]
    },
    {
     "name": "stdout",
     "output_type": "stream",
     "text": [
      "Eng error  [0.47193211606434415, 0.010980383720283982, 0.01996681141073875]\n",
      "State error  [0.9999910440717935, 0.051507275602387104, 0.18820736554611872]\n",
      "SAVED\n"
     ]
    },
    {
     "name": "stderr",
     "output_type": "stream",
     "text": [
      "100%|██████████| 1000/1000 [01:39<00:00, 10.00it/s, Energy=-3.3997-0.0010j ± 0.0019 [σ²=0.0036, R̂=1.0002]]   \n",
      "  0%|          | 0/1000 [00:00<?, ?it/s, Energy=1.140-0.063j ± 0.053 [σ²=2.804, R̂=1.0008]]"
     ]
    },
    {
     "name": "stdout",
     "output_type": "stream",
     "text": [
      "Eng error  [0.0008267454895403148]\n",
      "State error  [0.018501108036128366]\n"
     ]
    },
    {
     "name": "stderr",
     "output_type": "stream",
     "text": [
      "100%|██████████| 1000/1000 [01:48<00:00,  9.23it/s, Energy=-2.9509-0.0007j ± 0.0031 [σ²=0.0099, R̂=0.9972]]\n",
      "  0%|          | 0/1000 [00:00<?, ?it/s, Energy=0.364+0.015j ± 0.046 [σ²=2.119, R̂=0.9987]]"
     ]
    },
    {
     "name": "stdout",
     "output_type": "stream",
     "text": [
      "Eng error  [0.0008267454895403148, 0.449560280579433]\n",
      "State error  [0.018501108036128366, 0.9585937442614454]\n"
     ]
    },
    {
     "name": "stderr",
     "output_type": "stream",
     "text": [
      "100%|██████████| 1000/1000 [01:36<00:00, 10.34it/s, Energy=-3.341+0.000j ± 0.011 [σ²=0.119, R̂=1.0044]]       \n"
     ]
    },
    {
     "name": "stdout",
     "output_type": "stream",
     "text": [
      "Eng error  [0.0008267454895403148, 0.449560280579433, 0.05950782475008465]\n",
      "State error  [0.018501108036128366, 0.9585937442614454, 0.016869051178478145]\n",
      "SAVED\n"
     ]
    },
    {
     "name": "stderr",
     "output_type": "stream",
     "text": [
      "100%|██████████| 1000/1000 [01:49<00:00,  9.12it/s, Energy=-3.65404-0.00003j ± 0.00066 [σ²=0.00044, R̂=1.0013]]   \n",
      "  0%|          | 0/1000 [00:00<?, ?it/s]"
     ]
    },
    {
     "name": "stdout",
     "output_type": "stream",
     "text": [
      "Eng error  [0.0019311110431634582]\n",
      "State error  [0.007983566360601602]\n"
     ]
    },
    {
     "name": "stderr",
     "output_type": "stream",
     "text": [
      "100%|██████████| 1000/1000 [01:59<00:00,  8.39it/s, Energy=-3.6422-0.0001j ± 0.0070 [σ²=0.0488, R̂=1.0002]]   \n",
      "  0%|          | 0/1000 [00:00<?, ?it/s, Energy=1.117-0.003j ± 0.041 [σ²=1.697, R̂=0.9989]]"
     ]
    },
    {
     "name": "stdout",
     "output_type": "stream",
     "text": [
      "Eng error  [0.0019311110431634582, 0.013736475126246539]\n",
      "State error  [0.007983566360601602, 0.09847879298997686]\n"
     ]
    },
    {
     "name": "stderr",
     "output_type": "stream",
     "text": [
      "100%|██████████| 1000/1000 [01:53<00:00,  8.81it/s, Energy=-3.6517+0.0016j ± 0.0018 [σ²=0.0034, R̂=1.0025]]   \n"
     ]
    },
    {
     "name": "stdout",
     "output_type": "stream",
     "text": [
      "Eng error  [0.0019311110431634582, 0.013736475126246539, 0.004293872357080453]\n",
      "State error  [0.007983566360601602, 0.09847879298997686, 0.024754475647802532]\n",
      "SAVED\n"
     ]
    },
    {
     "name": "stderr",
     "output_type": "stream",
     "text": [
      "100%|██████████| 1000/1000 [02:12<00:00,  7.52it/s, Energy=-3.8733+0.0009j ± 0.0014 [σ²=0.0020, R̂=1.0023]]   \n",
      "  0%|          | 0/1000 [00:00<?, ?it/s]"
     ]
    },
    {
     "name": "stdout",
     "output_type": "stream",
     "text": [
      "Eng error  [0.037404010491174144]\n",
      "State error  [0.021076873425462384]\n"
     ]
    },
    {
     "name": "stderr",
     "output_type": "stream",
     "text": [
      "100%|██████████| 1000/1000 [02:08<00:00,  7.76it/s, Energy=-3.4249-0.0016j ± 0.0090 [σ²=0.0820, R̂=0.9992]]   \n",
      "  0%|          | 0/1000 [00:00<?, ?it/s, Energy=0.563+0.075j ± 0.070 [σ²=4.880, R̂=1.0106]]"
     ]
    },
    {
     "name": "stdout",
     "output_type": "stream",
     "text": [
      "Eng error  [0.037404010491174144, 0.4857941429651089]\n",
      "State error  [0.021076873425462384, 0.999922569490143]\n"
     ]
    },
    {
     "name": "stderr",
     "output_type": "stream",
     "text": [
      "100%|██████████| 1000/1000 [02:06<00:00,  7.94it/s, Energy=-3.894+0.000j ± 0.010 [σ²=0.111, R̂=0.9994]]       \n"
     ]
    },
    {
     "name": "stdout",
     "output_type": "stream",
     "text": [
      "Eng error  [0.037404010491174144, 0.4857941429651089, 0.01630786426935238]\n",
      "State error  [0.021076873425462384, 0.999922569490143, 0.009547736833273257]\n",
      "SAVED\n"
     ]
    },
    {
     "name": "stderr",
     "output_type": "stream",
     "text": [
      "100%|██████████| 1000/1000 [02:34<00:00,  6.47it/s, Energy=-4.1525-0.0002j ± 0.0080 [σ²=0.0641, R̂=0.9994]]   \n",
      "  0%|          | 0/1000 [00:00<?, ?it/s]"
     ]
    },
    {
     "name": "stdout",
     "output_type": "stream",
     "text": [
      "Eng error  [0.012297649268830035]\n",
      "State error  [0.043246326195952256]\n"
     ]
    },
    {
     "name": "stderr",
     "output_type": "stream",
     "text": [
      "100%|██████████| 1000/1000 [02:25<00:00,  6.89it/s, Energy=-4.146+0.003j ± 0.011 [σ²=0.126, R̂=0.9990]]               \n",
      "  0%|          | 0/1000 [00:00<?, ?it/s]"
     ]
    },
    {
     "name": "stdout",
     "output_type": "stream",
     "text": [
      "Eng error  [0.012297649268830035, 0.018408677533510165]\n",
      "State error  [0.043246326195952256, 0.004069992777793741]\n"
     ]
    },
    {
     "name": "stderr",
     "output_type": "stream",
     "text": [
      "100%|██████████| 1000/1000 [02:27<00:00,  6.78it/s, Energy=-4.1658+0.0033j ± 0.0033 [σ²=0.0112, R̂=0.9986]]   \n"
     ]
    },
    {
     "name": "stdout",
     "output_type": "stream",
     "text": [
      "Eng error  [0.012297649268830035, 0.018408677533510165, 0.0010278629620374957]\n",
      "State error  [0.043246326195952256, 0.004069992777793741, 0.011344328358565248]\n",
      "SAVED\n"
     ]
    },
    {
     "name": "stderr",
     "output_type": "stream",
     "text": [
      "100%|██████████| 1000/1000 [02:40<00:00,  6.21it/s, Energy=-4.4148+0.0001j ± 0.0014 [σ²=0.0019, R̂=1.0016]]   \n",
      "  0%|          | 0/1000 [00:00<?, ?it/s]"
     ]
    },
    {
     "name": "stdout",
     "output_type": "stream",
     "text": [
      "Eng error  [0.0036360294936965687]\n",
      "State error  [0.03252619282468994]\n"
     ]
    },
    {
     "name": "stderr",
     "output_type": "stream",
     "text": [
      "100%|██████████| 1000/1000 [02:34<00:00,  6.48it/s, Energy=-4.389-0.003j ± 0.015 [σ²=0.215, R̂=0.9995]]       \n",
      "  0%|          | 0/1000 [00:00<?, ?it/s]"
     ]
    },
    {
     "name": "stdout",
     "output_type": "stream",
     "text": [
      "Eng error  [0.0036360294936965687, 0.028974495837209346]\n",
      "State error  [0.03252619282468994, 0.019311683463876794]\n"
     ]
    },
    {
     "name": "stderr",
     "output_type": "stream",
     "text": [
      "100%|██████████| 1000/1000 [02:29<00:00,  6.67it/s, Energy=-4.4162-0.0002j ± 0.0024 [σ²=0.0059, R̂=0.9959]]           \n"
     ]
    },
    {
     "name": "stdout",
     "output_type": "stream",
     "text": [
      "Eng error  [0.0036360294936965687, 0.028974495837209346, 0.0022041754524488866]\n",
      "State error  [0.03252619282468994, 0.019311683463876794, 0.005765945270141404]\n",
      "SAVED\n"
     ]
    },
    {
     "name": "stderr",
     "output_type": "stream",
     "text": [
      "100%|██████████| 1000/1000 [02:46<00:00,  6.02it/s, Energy=-4.6719-0.0065j ± 0.0015 [σ²=0.0021, R̂=1.1983]]           \n",
      "  0%|          | 0/1000 [00:00<?, ?it/s]"
     ]
    },
    {
     "name": "stdout",
     "output_type": "stream",
     "text": [
      "Eng error  [0.000309905028007762]\n",
      "State error  [0.005942184772916637]\n"
     ]
    },
    {
     "name": "stderr",
     "output_type": "stream",
     "text": [
      "100%|██████████| 1000/1000 [02:50<00:00,  5.87it/s, Energy=-4.6605-0.0008j ± 0.0089 [σ²=0.0804, R̂=1.0003]]       \n",
      "  0%|          | 0/1000 [00:00<?, ?it/s]"
     ]
    },
    {
     "name": "stdout",
     "output_type": "stream",
     "text": [
      "Eng error  [0.000309905028007762, 0.01114523131374856]\n",
      "State error  [0.005942184772916637, 0.007039435431618557]\n"
     ]
    },
    {
     "name": "stderr",
     "output_type": "stream",
     "text": [
      "100%|██████████| 1000/1000 [02:51<00:00,  5.84it/s, Energy=-4.6380-0.0025j ± 0.0029 [σ²=0.0083, R̂=1.0068]]   \n"
     ]
    },
    {
     "name": "stdout",
     "output_type": "stream",
     "text": [
      "Eng error  [0.000309905028007762, 0.01114523131374856, 0.03363094410457279]\n",
      "State error  [0.005942184772916637, 0.007039435431618557, 0.01967416322436122]\n",
      "SAVED\n"
     ]
    },
    {
     "name": "stderr",
     "output_type": "stream",
     "text": [
      "100%|██████████| 1000/1000 [03:11<00:00,  5.21it/s, Energy=-4.8415+0.0063j ± 0.0034 [σ²=0.0118, R̂=1.2749]]           \n",
      "  0%|          | 0/1000 [00:00<?, ?it/s]"
     ]
    },
    {
     "name": "stdout",
     "output_type": "stream",
     "text": [
      "Eng error  [0.08292903459145595]\n",
      "State error  [0.0098479930786749]\n"
     ]
    },
    {
     "name": "stderr",
     "output_type": "stream",
     "text": [
      "100%|██████████| 1000/1000 [03:13<00:00,  5.17it/s, Energy=-4.9213-0.0000j ± 0.0017 [σ²=0.0029, R̂=1.0070]]   \n",
      "  0%|          | 0/1000 [00:00<?, ?it/s]"
     ]
    },
    {
     "name": "stdout",
     "output_type": "stream",
     "text": [
      "Eng error  [0.08292903459145595, 0.0031362176103142403]\n",
      "State error  [0.0098479930786749, 0.031339611656573396]\n"
     ]
    },
    {
     "name": "stderr",
     "output_type": "stream",
     "text": [
      "100%|██████████| 1000/1000 [03:27<00:00,  4.81it/s, Energy=-4.4321-0.0004j ± 0.0022 [σ²=0.0048, R̂=0.9971]]\n"
     ]
    },
    {
     "name": "stdout",
     "output_type": "stream",
     "text": [
      "Eng error  [0.08292903459145595, 0.0031362176103142403, 0.4924064310759446]\n",
      "State error  [0.0098479930786749, 0.031339611656573396, 0.9999934748667295]\n",
      "SAVED\n"
     ]
    },
    {
     "name": "stderr",
     "output_type": "stream",
     "text": [
      "100%|██████████| 1000/1000 [03:39<00:00,  4.55it/s, Energy=-5.1474+0.0005j ± 0.0046 [σ²=0.0212, R̂=0.9975]]   \n",
      "  0%|          | 0/1000 [00:00<?, ?it/s]"
     ]
    },
    {
     "name": "stdout",
     "output_type": "stream",
     "text": [
      "Eng error  [0.02959709988211312]\n",
      "State error  [0.022957700855335994]\n"
     ]
    },
    {
     "name": "stderr",
     "output_type": "stream",
     "text": [
      "100%|██████████| 1000/1000 [03:41<00:00,  4.51it/s, Energy=-5.1447-0.0019j ± 0.0010 [σ²=0.0011, R̂=1.0125]]   \n",
      "  0%|          | 0/1000 [00:00<?, ?it/s]"
     ]
    },
    {
     "name": "stdout",
     "output_type": "stream",
     "text": [
      "Eng error  [0.02959709988211312, 0.03228104379351038]\n",
      "State error  [0.022957700855335994, 0.06816590687303514]\n"
     ]
    },
    {
     "name": "stderr",
     "output_type": "stream",
     "text": [
      "100%|██████████| 1000/1000 [03:39<00:00,  4.56it/s, Energy=-5.156+0.001j ± 0.014 [σ²=0.196, R̂=1.0002]]       \n"
     ]
    },
    {
     "name": "stdout",
     "output_type": "stream",
     "text": [
      "Eng error  [0.02959709988211312, 0.03228104379351038, 0.02133376079313898]\n",
      "State error  [0.022957700855335994, 0.06816590687303514, 0.005759309449263061]\n",
      "SAVED\n"
     ]
    },
    {
     "name": "stderr",
     "output_type": "stream",
     "text": [
      "100%|██████████| 1000/1000 [04:00<00:00,  4.16it/s, Energy=-5.371+0.003j ± 0.023 [σ²=0.551, R̂=1.0079]]   \n",
      "  0%|          | 0/1000 [00:00<?, ?it/s]"
     ]
    },
    {
     "name": "stdout",
     "output_type": "stream",
     "text": [
      "Eng error  [0.058583648413828016]\n",
      "State error  [0.029864042860368256]\n"
     ]
    },
    {
     "name": "stderr",
     "output_type": "stream",
     "text": [
      "100%|██████████| 1000/1000 [03:55<00:00,  4.25it/s, Energy=-5.417+0.001j ± 0.010 [σ²=0.108, R̂=1.0009]]           \n",
      "  0%|          | 0/1000 [00:00<?, ?it/s]"
     ]
    },
    {
     "name": "stdout",
     "output_type": "stream",
     "text": [
      "Eng error  [0.058583648413828016, 0.012694934551603865]\n",
      "State error  [0.029864042860368256, 0.007164417210801188]\n"
     ]
    },
    {
     "name": "stderr",
     "output_type": "stream",
     "text": [
      "100%|██████████| 1000/1000 [03:55<00:00,  4.24it/s, Energy=-5.42906-0.00101j ± 0.00093 [σ²=0.00086, R̂=1.0219]]\n"
     ]
    },
    {
     "name": "stdout",
     "output_type": "stream",
     "text": [
      "Eng error  [0.058583648413828016, 0.012694934551603865, 0.0002873784259564971]\n",
      "State error  [0.029864042860368256, 0.007164417210801188, 0.009071225937195448]\n",
      "SAVED\n"
     ]
    },
    {
     "name": "stderr",
     "output_type": "stream",
     "text": [
      "100%|██████████| 1000/1000 [04:12<00:00,  3.96it/s, Energy=-4.7228-0.0022j ± 0.0023 [σ²=0.0052, R̂=1.0059]]       \n",
      "  0%|          | 0/1000 [00:00<?, ?it/s]"
     ]
    },
    {
     "name": "stdout",
     "output_type": "stream",
     "text": [
      "Eng error  [0.9586943100153489]\n",
      "State error  [0.9999999696475023]\n"
     ]
    },
    {
     "name": "stderr",
     "output_type": "stream",
     "text": [
      "100%|██████████| 1000/1000 [04:09<00:00,  4.00it/s, Energy=-5.6547-0.0006j ± 0.0017 [σ²=0.0029, R̂=1.0102]]   \n",
      "  0%|          | 0/1000 [00:00<?, ?it/s]"
     ]
    },
    {
     "name": "stdout",
     "output_type": "stream",
     "text": [
      "Eng error  [0.9586943100153489, 0.026700076381761306]\n",
      "State error  [0.9999999696475023, 0.015159506156176228]\n"
     ]
    },
    {
     "name": "stderr",
     "output_type": "stream",
     "text": [
      "100%|██████████| 1000/1000 [04:13<00:00,  3.95it/s, Energy=-5.622-0.000j ± 0.019 [σ²=0.354, R̂=0.9992]]       \n"
     ]
    }
   ],
   "source": [
    "for i in range(21):  #here put N-1 (maximum)\n",
    "    N = i+2\n",
    "    alpha = 1   #density of RBM\n",
    "    M = alpha*N\n",
    "    # Constant A\n",
    "    B = 0.95\n",
    "    # Variable A\n",
    "    #B=N/2\n",
    "    #A = N/2\n",
    "    #N0 = N/2\n",
    "    # List of Ak\n",
    "    Ak = []\n",
    "    for i in range(N - 1):\n",
    "        # Constant A\n",
    "        Ak_i = 1\n",
    "        # Variable A\n",
    "        #Ak_i = A / (N0) * np.exp(-i / N0)\n",
    "        Ak.append(Ak_i)\n",
    "    # Define hamiltonian and hilbert space\n",
    "    ha, hi = CSHam(N,B,Ak)\n",
    "\n",
    "    #Exact Diagonalization\n",
    "    e, v = exactDiagonalization(ha)\n",
    "    #Ground state energy\n",
    "    edEng = e[0]\n",
    "    # Ground state\n",
    "    edState = v[0]\n",
    "\n",
    "    #Lists for Histogram Data\n",
    "    numRuns = 3\n",
    "    hisIt = np.arange(numRuns)\n",
    "    engErr = []\n",
    "    stateErr = []\n",
    "    runTime = []\n",
    "    \n",
    "\n",
    "    \n",
    "    \n",
    "    # Get errors for each run in histogram\n",
    "    for i in range(len(hisIt)):\n",
    "        engTemp, stateTemp, runTimeTemp = runDescentCS(N,B,Ak,alpha)\n",
    "        #engTemp, stateTemp, runTimeTemp = resultsSR[i]\n",
    "        runTime.append(runTimeTemp)\n",
    "        errSR = err(np.asmatrix(stateTemp), edState, engTemp, edEng,N) #make state vector as matrix data-type\n",
    "        engErr.append(errSR[0])\n",
    "        stateErr.append(errSR[1])\n",
    "        print('Eng error ', engErr)\n",
    "        print('State error ', stateErr)\n",
    "\n",
    "    #Save data to JSON file\n",
    "    data = [engErr, stateErr, runTime]\n",
    "    fileName = \"2021_summer_data/compromise/con_N\"+str(N)+\"M\" + str(M)+\".json\"\n",
    "    open(fileName, \"w\").close()\n",
    "    with open(fileName, 'a') as file:\n",
    "        for item in data:\n",
    "            line = json.dumps(item)\n",
    "            file.write(line + '\\n')\n",
    "    print('SAVED')\n"
   ]
  },
  {
   "cell_type": "code",
   "execution_count": null,
   "id": "84857694",
   "metadata": {},
   "outputs": [],
   "source": [
    "import os\n",
    "#check current directory\n",
    "working_directory = os.getcwd()\n",
    "print(working_directory)"
   ]
  },
  {
   "cell_type": "code",
   "execution_count": 6,
   "id": "a1c70256",
   "metadata": {},
   "outputs": [
    {
     "name": "stderr",
     "output_type": "stream",
     "text": [
      "WARNING:absl:No GPU/TPU found, falling back to CPU. (Set TF_CPP_MIN_LOG_LEVEL=0 and rerun for more info.)\n",
      "WARNING:absl:No GPU/TPU found, falling back to CPU. (Set TF_CPP_MIN_LOG_LEVEL=0 and rerun for more info.)\n",
      "WARNING:absl:No GPU/TPU found, falling back to CPU. (Set TF_CPP_MIN_LOG_LEVEL=0 and rerun for more info.)\n",
      "WARNING:absl:No GPU/TPU found, falling back to CPU. (Set TF_CPP_MIN_LOG_LEVEL=0 and rerun for more info.)\n",
      "WARNING:absl:No GPU/TPU found, falling back to CPU. (Set TF_CPP_MIN_LOG_LEVEL=0 and rerun for more info.)\n",
      "/home/victor1/ENV/lib/python3.8/site-packages/netket/driver/vmc.py:82: FutureWarning: The `sr` keyword argument is deprecated in favour of `preconditioner`.Please update your code to `VMC(.., precondioner=your_sr)`\n",
      "  warn_deprecation(\n",
      "/home/victor1/ENV/lib/python3.8/site-packages/netket/driver/vmc.py:82: FutureWarning: The `sr` keyword argument is deprecated in favour of `preconditioner`.Please update your code to `VMC(.., precondioner=your_sr)`\n",
      "  warn_deprecation(\n",
      "/home/victor1/ENV/lib/python3.8/site-packages/netket/driver/vmc.py:82: FutureWarning: The `sr` keyword argument is deprecated in favour of `preconditioner`.Please update your code to `VMC(.., precondioner=your_sr)`\n",
      "  warn_deprecation(\n",
      "/home/victor1/ENV/lib/python3.8/site-packages/netket/driver/vmc.py:82: FutureWarning: The `sr` keyword argument is deprecated in favour of `preconditioner`.Please update your code to `VMC(.., precondioner=your_sr)`\n",
      "  warn_deprecation(\n",
      "/home/victor1/ENV/lib/python3.8/site-packages/netket/driver/vmc.py:82: FutureWarning: The `sr` keyword argument is deprecated in favour of `preconditioner`.Please update your code to `VMC(.., precondioner=your_sr)`\n",
      "  warn_deprecation(\n"
     ]
    },
    {
     "name": "stdout",
     "output_type": "stream",
     "text": [
      "Eng error  [0.0022287900072177624]\n",
      "State error  [0.007509688885194099]\n",
      "Eng error  [0.0022287900072177624, 0.0022287900072177624]\n",
      "State error  [0.007509688885194099, 0.007509688885194099]\n",
      "Eng error  [0.0022287900072177624, 0.0022287900072177624, 0.0022287900072177624]\n",
      "State error  [0.007509688885194099, 0.007509688885194099, 0.007509688885194099]\n",
      "Eng error  [0.0022287900072177624, 0.0022287900072177624, 0.0022287900072177624, 0.0022287900072177624]\n",
      "State error  [0.007509688885194099, 0.007509688885194099, 0.007509688885194099, 0.007509688885194099]\n",
      "Eng error  [0.0022287900072177624, 0.0022287900072177624, 0.0022287900072177624, 0.0022287900072177624, 0.0022287900072177624]\n",
      "State error  [0.007509688885194099, 0.007509688885194099, 0.007509688885194099, 0.007509688885194099, 0.007509688885194099]\n",
      "SAVED\n"
     ]
    }
   ],
   "source": [
    "\n",
    "\n",
    "\n",
    "N = 3\n",
    "alpha = 1   #density of RBM\n",
    "M = alpha*N\n",
    "# Constant A\n",
    "B = 0.95\n",
    "# Variable A\n",
    "#B=N/2\n",
    "A = N/2\n",
    "N0 = N/2\n",
    "# List of Ak\n",
    "Ak = []\n",
    "for i in range(N - 1):\n",
    "    # Constant A\n",
    "    Ak_i = 1\n",
    "    # Variable A\n",
    "    #Ak_i = A / (N0) * np.exp(-i / N0)\n",
    "    Ak.append(Ak_i)\n",
    "# Define hamiltonian and hilbert space\n",
    "ha, hi = CSHam(N,B,Ak)\n",
    "\n",
    "#Exact Diagonalization\n",
    "e, v = exactDiagonalization(ha)\n",
    "#Ground state energy\n",
    "edEng = e[0]\n",
    "# Ground state\n",
    "edState = v[0]\n",
    "\n",
    "#Lists for Histogram Data\n",
    "numRuns = 5\n",
    "hisIt = np.arange(numRuns)\n",
    "engErr = []\n",
    "stateErr = []\n",
    "runTime = []\n",
    "\n",
    "# Cluster multiproccessing\n",
    "ncpus = int(os.environ.get('SLURM_CPUS_PER_TASK',default=10))\n",
    "pool = mp.Pool(processes=ncpus)\n",
    "# Run Descent\n",
    "results = []\n",
    "for j in hisIt:\n",
    "    result = pool.apply_async(runDescentCS, args=(N,B,Ak,alpha)) \n",
    "    results.append(result)\n",
    "\n",
    "pool.close()\n",
    "pool.join()\n",
    "resultsSR = [r.get() for r in results]\n",
    "    \n",
    "\n",
    "\n",
    "\n",
    "# Get errors for each run in histogram\n",
    "for i in range(len(hisIt)):\n",
    "    #engTemp, stateTemp, runTimeTemp = runDescentCS(N,B,Ak,alpha)\n",
    "    engTemp, stateTemp, runTimeTemp = resultsSR[i]\n",
    "    runTime.append(runTimeTemp)\n",
    "    errSR = err(np.asmatrix(stateTemp), edState, engTemp, edEng,N) #make state vector as matrix data-type\n",
    "    engErr.append(errSR[0])\n",
    "    stateErr.append(errSR[1])\n",
    "    print('Eng error ', engErr)\n",
    "    print('State error ', stateErr)\n",
    "\n",
    "#Save data to JSON file\n",
    "data = [engErr, stateErr, runTime]\n",
    "fileName = \"2021_summer_data/N\"+str(N)+\"M\" + str(M)+\".json\"\n",
    "open(fileName, \"w\").close()\n",
    "with open(fileName, 'a') as file:\n",
    "    for item in data:\n",
    "        line = json.dumps(item)\n",
    "        file.write(line + '\\n')\n",
    "print('SAVED')"
   ]
  },
  {
   "cell_type": "code",
   "execution_count": null,
   "id": "0001482b",
   "metadata": {},
   "outputs": [],
   "source": []
  }
 ],
 "metadata": {
  "kernelspec": {
   "display_name": "Python 3",
   "language": "python",
   "name": "python3"
  },
  "language_info": {
   "codemirror_mode": {
    "name": "ipython",
    "version": 3
   },
   "file_extension": ".py",
   "mimetype": "text/x-python",
   "name": "python",
   "nbconvert_exporter": "python",
   "pygments_lexer": "ipython3",
   "version": "3.8.2"
  }
 },
 "nbformat": 4,
 "nbformat_minor": 5
}
